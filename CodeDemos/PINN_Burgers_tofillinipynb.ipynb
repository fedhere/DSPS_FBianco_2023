{
  "cells": [
    {
      "cell_type": "markdown",
      "metadata": {
        "id": "view-in-github",
        "colab_type": "text"
      },
      "source": [
        "<a href=\"https://colab.research.google.com/github/fedhere/DSPS_FBianco/blob/main/CodeDemos/PINN_Burgers_tofillinipynb.ipynb\" target=\"_parent\"><img src=\"https://colab.research.google.com/assets/colab-badge.svg\" alt=\"Open In Colab\"/></a>"
      ]
    },
    {
      "cell_type": "code",
      "execution_count": 1,
      "metadata": {
        "colab": {
          "base_uri": "https://localhost:8080/",
          "height": 35
        },
        "id": "N5b8ztdUijVM",
        "outputId": "16c3e5bc-ad63-4cd7-e96d-60893c6d1569"
      },
      "outputs": [
        {
          "output_type": "execute_result",
          "data": {
            "text/plain": [
              "'2.14.0'"
            ],
            "application/vnd.google.colaboratory.intrinsic+json": {
              "type": "string"
            }
          },
          "metadata": {},
          "execution_count": 1
        }
      ],
      "source": [
        "import tensorflow as tf\n",
        "import numpy as np\n",
        "tf.__version__"
      ]
    },
    {
      "cell_type": "code",
      "execution_count": 2,
      "metadata": {
        "id": "MQjoBoT6CoE7"
      },
      "outputs": [],
      "source": [
        "import scipy\n",
        "from scipy import io\n",
        "from scipy.interpolate import griddata\n",
        "import pylab as pl"
      ]
    },
    {
      "cell_type": "code",
      "execution_count": null,
      "metadata": {
        "id": "BvSOvrGHDaLr"
      },
      "outputs": [],
      "source": [
        "!wget https://github.com/maziarraissi/PINNs/raw/master/appendix/Data/burgers_shock.mat"
      ]
    },
    {
      "cell_type": "code",
      "execution_count": null,
      "metadata": {
        "id": "orTLSn8KnCGn"
      },
      "outputs": [],
      "source": [
        "### what is the solution that we want? read in the data\n",
        "\n",
        "# loading in a file saved as a binary (?) in mathematica\n",
        "data = scipy.io.loadmat('burgers_shock.mat')\n",
        "\n",
        "data.keys()\n",
        "\n",
        "t = data['t'].flatten() #time\n",
        "x = data['x'].flatten() #position\n",
        "Z = np.real(data['usol']) #solution of Burger's Ee\n",
        "\n",
        "print(t.shape, x.shape, Z.shape)\n",
        "\n",
        "ax = pl.figure(figsize=(5,5)).add_subplot(111)\n",
        "cb = ax.imshow(Z[::-1],extent=[0,1,-1,1], clim=(-1,1))\n",
        "ax.set_xlabel(\"t\")\n",
        "ax.set_ylabel(\"x\");\n",
        "ax.set_aspect(0.3)\n",
        "pl.colorbar(cb);\n"
      ]
    },
    {
      "cell_type": "markdown",
      "metadata": {
        "id": "nxFmj41QC7o8"
      },
      "source": [
        "# PROBLEM SETUP: BURGER'S EQUATIONS\n",
        "$$\n",
        "\\begin{align}\n",
        "    \\partial_t u (t,x) + \\mathcal{N}[u](t,x) &= 0, && (t,x) \\in (0,T] \\times \\mathcal{D},\\\\\n",
        "    u(0,x) &= u_0(x) \\quad && x \\in \\mathcal{D},\n",
        "\\end{align}\n",
        "$$\n",
        "\n",
        "\n",
        "$$\n",
        "\\begin{align}\n",
        "        \\hspace{7em} u(t,x) &= u_b(t,x)  && \\quad (t,x) \\in (0,T] \\times \\partial \\mathcal{D},\n",
        "\\end{align}\n",
        "$$\n"
      ]
    },
    {
      "cell_type": "markdown",
      "metadata": {
        "id": "HYYio3lXDz3N"
      },
      "source": [
        "# SPECIFIC CASE: LIMIT REGIME AND SET VISCOSITY TO $\\nu=0.01/\\pi$\n",
        "\n",
        "$$\n",
        "\\begin{aligned}\n",
        "    \\partial_t u + u \\, \\partial_x u - (0.01/\\pi) \\, \\partial_{xx} u &= 0, \\quad &&\\quad (t,x) \\in (0,1] \\times (-1,1),&&\\mathrm{eq.1}\\\\\n",
        "   u(0,x) &= - \\sin(\\pi \\, x),                 \\quad &&\\quad x \\in [-1,1],&\\mathrm{eq.2}\\\\\n",
        "   u(t,-1) = u(t,1) &= 0,                      \\quad &&\\quad t \\in (0,1].\n",
        "\\end{aligned}\n",
        "$$"
      ]
    },
    {
      "cell_type": "code",
      "execution_count": 5,
      "metadata": {
        "id": "7aP28oQ2CvIl"
      },
      "outputs": [],
      "source": [
        "tf.random.set_seed(123)\n",
        "pi = tf.constant(np.pi, dtype=\"float32\")"
      ]
    },
    {
      "cell_type": "code",
      "execution_count": 6,
      "metadata": {
        "id": "jJeI7PuxEAzV"
      },
      "outputs": [],
      "source": [
        "def fun_u_0(x): #u(0,x) eq 2\n",
        "  return -tf.sin(pi * x)\n",
        "\n",
        "def fun_u_b(t, x): #u(t,x) - set up container\n",
        "  return tf.zeros((x.shape[0], 1), dtype=\"float32\")\n",
        "\n",
        "def fun_res(u, u_t, u_x, u_xx): #deruvatuve equation eq 1 - u_. is the derivative w respect to .\n",
        "  return tf.abs(u_t + u * u_x - 0.01 / pi * u_xx)"
      ]
    },
    {
      "cell_type": "code",
      "execution_count": 7,
      "metadata": {
        "id": "RInae9icFOf9"
      },
      "outputs": [],
      "source": [
        "#number of points we are using for training and predicting\n",
        "n_0 = 50 #points at t=0 -> initial conditions\n",
        "n_b = 50 #points at b=1;-1] -> boundary conditions\n",
        "n_r = 10000\n",
        "\n",
        "#boundaries\n",
        "tmin = 0.\n",
        "tmax = 1.\n",
        "xmin = -1.\n",
        "xmax = 1."
      ]
    },
    {
      "cell_type": "markdown",
      "metadata": {
        "id": "tTqFf1ipJolb"
      },
      "source": [
        "# get random data in x at t=0\n"
      ]
    },
    {
      "cell_type": "code",
      "execution_count": null,
      "metadata": {
        "id": "Krf2cghaF_W3"
      },
      "outputs": [],
      "source": [
        "t_0 = tf.ones((n_0, 1), dtype=\"float32\") * tmin\n",
        "x_0 = tf.random.uniform((n_0, 1), xmin, xmax, dtype=\"float32\")\n",
        "X_0 = tf.concat([t_0, x_0], axis=1)\n",
        "X_0"
      ]
    },
    {
      "cell_type": "markdown",
      "metadata": {
        "id": "X7L_npWAGJwl"
      },
      "source": [
        "# evaluate initial condition at x_0"
      ]
    },
    {
      "cell_type": "code",
      "execution_count": null,
      "metadata": {
        "id": "OZLxBaL_HxQt"
      },
      "outputs": [],
      "source": [
        "u_0 = fun_u_0(x_0) #eq 2\n",
        "u_0"
      ]
    },
    {
      "cell_type": "code",
      "execution_count": null,
      "metadata": {
        "id": "y60FLKhePAF5"
      },
      "outputs": [],
      "source": [
        "pl.scatter(t_0, x_0, c=u_0, marker='o', clim=(-1,1))\n",
        "pl.xlabel(\"t\")\n",
        "pl.ylabel(\"x\");"
      ]
    },
    {
      "cell_type": "markdown",
      "metadata": {
        "id": "nmNkb_sZH88H"
      },
      "source": [
        "# get data at boundaries of x at random t's\n",
        "\n"
      ]
    },
    {
      "cell_type": "code",
      "execution_count": null,
      "metadata": {
        "id": "O9lEG4ppISKn"
      },
      "outputs": [],
      "source": [
        "t_b = tf.random.uniform((n_b, 1), tmin, tmax, dtype=\"float32\")\n",
        "x_b = xmin + (xmax - xmin) * tf.keras.backend.random_bernoulli((n_b, 1), 0.5, dtype=\"float32\")\n",
        "X_b = tf.concat([t_b, x_b], axis=1)\n",
        "X_b"
      ]
    },
    {
      "cell_type": "markdown",
      "metadata": {
        "id": "mhhp_gKcKn7N"
      },
      "source": [
        "# evaluate data at boundaries of x at random t's\n"
      ]
    },
    {
      "cell_type": "code",
      "execution_count": null,
      "metadata": {
        "id": "U9QiRw-6K_lx"
      },
      "outputs": [],
      "source": [
        "u_b = fun_u_b(t_b, x_b)\n",
        "u_b"
      ]
    },
    {
      "cell_type": "code",
      "execution_count": null,
      "metadata": {
        "id": "HGcS0aZfPIiF"
      },
      "outputs": [],
      "source": [
        "pl.scatter(t_b, x_b, c=u_b, marker='o', clim=(-1,1))\n",
        "pl.xlabel(\"t\")\n",
        "pl.ylabel(\"x\");"
      ]
    },
    {
      "cell_type": "markdown",
      "metadata": {
        "id": "9gxWfM-rMf0x"
      },
      "source": [
        "# get points inside the space at random where the function will be predicted"
      ]
    },
    {
      "cell_type": "code",
      "execution_count": 14,
      "metadata": {
        "colab": {
          "base_uri": "https://localhost:8080/"
        },
        "id": "a8MkPAhnOKLm",
        "outputId": "b1ee7545-45ee-4a87-f1e1-0ad4dfbd19e8"
      },
      "outputs": [
        {
          "output_type": "execute_result",
          "data": {
            "text/plain": [
              "<tf.Tensor: shape=(10000, 2), dtype=float32, numpy=\n",
              "array([[ 0.48962688, -0.15719008],\n",
              "       [ 0.5857923 ,  0.16138387],\n",
              "       [ 0.36451697, -0.43461084],\n",
              "       ...,\n",
              "       [ 0.9338294 ,  0.9995079 ],\n",
              "       [ 0.11166203, -0.28287673],\n",
              "       [ 0.00506091,  0.7726338 ]], dtype=float32)>"
            ]
          },
          "metadata": {},
          "execution_count": 14
        }
      ],
      "source": [
        "t_r = tf.random.uniform((n_r, 1), tmin, tmax, dtype=\"float32\")\n",
        "x_r = tf.random.uniform((n_r, 1), xmin, xmax, dtype=\"float32\")\n",
        "X_r = tf.concat([t_r, x_r], axis=1)\n",
        "X_r"
      ]
    },
    {
      "cell_type": "code",
      "execution_count": null,
      "metadata": {
        "id": "2r-JqVqqPPRE"
      },
      "outputs": [],
      "source": [
        "pl.scatter(t_0, x_0, c=u_0, marker='o', clim=(-1,1))\n",
        "pl.scatter(t_b, x_b, c=u_b, marker='o', clim=(-1,1))\n",
        "pl.scatter(t_r, x_r, c=\"k\", marker='.', s=0.3, alpha=0.7, clim=(-1,1))\n",
        "pl.xlabel(\"t\")\n",
        "pl.ylabel(\"x\");"
      ]
    },
    {
      "cell_type": "code",
      "execution_count": 16,
      "metadata": {
        "colab": {
          "base_uri": "https://localhost:8080/"
        },
        "id": "EYQPox4AVZsn",
        "outputId": "f7f6307c-19ff-42ed-9deb-c7d86a70ad2d"
      },
      "outputs": [
        {
          "output_type": "execute_result",
          "data": {
            "text/plain": [
              "(TensorShape([100, 2]), TensorShape([100, 1]))"
            ]
          },
          "metadata": {},
          "execution_count": 16
        }
      ],
      "source": [
        "#put boundary conditionns together\n",
        "X = tf.concat([X_0, X_b], axis=0)\n",
        "y = tf.concat([u_0, u_b], axis=0)\n",
        "X.shape, y.shape\n"
      ]
    },
    {
      "cell_type": "markdown",
      "metadata": {
        "id": "CXm6c6OmPYUm"
      },
      "source": [
        "# create the model with simple loss"
      ]
    },
    {
      "cell_type": "code",
      "execution_count": 17,
      "metadata": {
        "id": "cnlieQHnPn9C"
      },
      "outputs": [],
      "source": [
        "nnmodel = tf.keras.Sequential()\n",
        "\n",
        "#input layer with 2 neurons for 2 dimensions\n",
        "...\n",
        "\n",
        "#8 hidden layers\n",
        "for i in range(8):\n",
        "  ...\n",
        "\n",
        "#output layer is 1D\n",
        "...\n"
      ]
    },
    {
      "cell_type": "code",
      "execution_count": 18,
      "metadata": {
        "id": "diDtTe_pQPvn"
      },
      "outputs": [],
      "source": [
        "optim = tf.keras.optimizers.Adam(learning_rate=0.001)\n",
        "def custom_loss(...):\n",
        "  return REPLACEME"
      ]
    },
    {
      "cell_type": "code",
      "execution_count": 19,
      "metadata": {
        "id": "sEpuGNChTBM2"
      },
      "outputs": [],
      "source": [
        "nnmodel.compile(loss=custom_loss, optimizer=optim)"
      ]
    },
    {
      "cell_type": "markdown",
      "metadata": {
        "id": "84D686g7rx9x"
      },
      "source": [
        "## train the model"
      ]
    },
    {
      "cell_type": "code",
      "execution_count": null,
      "metadata": {
        "id": "R6LdUktXTHEE"
      },
      "outputs": [],
      "source": [
        "history = nnmodel.fit(X, y, epochs=1000)"
      ]
    },
    {
      "cell_type": "code",
      "execution_count": null,
      "metadata": {
        "id": "j14ZJR75kJUc"
      },
      "outputs": [],
      "source": [
        "pl.semilogy(history.history[\"loss\"])\n",
        "pl.xlabel(\"epochs\")\n",
        "pl.ylabel(\"loss\")"
      ]
    },
    {
      "cell_type": "markdown",
      "metadata": {
        "id": "nar6XroHr8MQ"
      },
      "source": [
        "## see the result"
      ]
    },
    {
      "cell_type": "code",
      "execution_count": null,
      "metadata": {
        "id": "hXcOqtqZXISi"
      },
      "outputs": [],
      "source": [
        "nnmodel.predict(tf.concat([t_r, x_r], axis=1))"
      ]
    },
    {
      "cell_type": "code",
      "execution_count": null,
      "metadata": {
        "id": "E9rlLliJVmEZ"
      },
      "outputs": [],
      "source": [
        "pl.scatter(t_0, x_0, c=u_0, marker='o', clim=(-1,1))\n",
        "pl.scatter(t_b, x_b, c=u_b, marker='o', clim=(-1,1))\n",
        "pl.scatter(t_r, x_r, c=nnmodel.predict(tf.concat([t_r, x_r], axis=1)), marker='.',\n",
        "           s=0.2, alpha=0.7, clim=(-1,1))\n",
        "pl.xlabel(\"t\")\n",
        "pl.ylabel(\"x\");"
      ]
    },
    {
      "cell_type": "code",
      "execution_count": null,
      "metadata": {
        "id": "1qkkyEJWfxzO"
      },
      "outputs": [],
      "source": [
        "ax = pl.figure(figsize=(5,5)).add_subplot(111)\n",
        "cb = ax.imshow(Z[::-1],extent=[0,1,-1,1], clim=(-1,1))\n",
        "ax.set_xlabel(\"t\")\n",
        "ax.set_ylabel(\"x\");\n",
        "ax.set_aspect(0.3);\n"
      ]
    },
    {
      "cell_type": "markdown",
      "source": [
        "show the accuracy for every point that you solved for"
      ],
      "metadata": {
        "id": "8-H-lBkAklO_"
      }
    },
    {
      "cell_type": "code",
      "execution_count": null,
      "metadata": {
        "id": "ht8GgSAma5ts"
      },
      "outputs": [],
      "source": [
        "def L1accuracy(t, x, model):\n",
        "  tmp_ = np.zeros((x.shape[0], 2), dtype=\"float32\")\n",
        "  tmp_[:,1] += x\n",
        "  acc = 0\n",
        "  for tt in range(t.shape[0]):\n",
        "    tmp_[:,0] = t[tt]\n",
        "    pl.plot(model.predict(tmp_))\n",
        "    acc += (model.predict(tmp_) - Z[:,tt]).sum()\n",
        "\n",
        "\n",
        "  return acc / np.prod(t.shape[0] * x.shape[0])\n",
        "L1accuracy(t, x, nnmodel)"
      ]
    },
    {
      "cell_type": "code",
      "execution_count": null,
      "metadata": {
        "id": "xnWjQkCt0c-h"
      },
      "outputs": [],
      "source": [
        "tmp_ = np.zeros((x.shape[0], 2), dtype=\"float32\")\n",
        "tmp_[:,1] += x\n",
        "inds = [0, 30, -1]\n",
        "for i in range(3):\n",
        "  pl.figure()\n",
        "  pl.title(\"time = %.2f\"%t[inds[i]])\n",
        "  pl.plot(x, Z[:,inds[i]], label=\"true\")\n",
        "  tmp_[:,0] = t[inds[i]]\n",
        "  pl.scatter(x, nnmodel.predict(tmp_), marker='.', edgecolors=\"IndianRed\",\n",
        "             label=\"prediction\")\n",
        "  pl.xlabel(\"x\")\n",
        "  pl.ylabel(\"u(t, x)\")\n",
        "  pl.legend();\n"
      ]
    },
    {
      "cell_type": "markdown",
      "metadata": {
        "id": "hxw9LrkRsBYX"
      },
      "source": [
        "# create the model with complete loss"
      ]
    },
    {
      "cell_type": "code",
      "execution_count": 27,
      "metadata": {
        "id": "p3vjyD9LY41E"
      },
      "outputs": [],
      "source": [
        "def get_pde(model, X_r):\n",
        "\n",
        "  with tf.GradientTape(persistent=True) as tape:\n",
        "      t, x = X_r[:,0:1], X_r[:,1:2]\n",
        "      tape.watch(t)\n",
        "      tape.watch(x)\n",
        "      u = model(tf.concat([t, x], axis=1))\n",
        "      u_x = tape.gradient(u,x)\n",
        "      #print(u_x)\n",
        "  u_t = tape.gradient(u, t)\n",
        "  u_xx = tape.gradient(u_x, x)\n",
        "\n",
        "  del tape # to save some memory\n",
        "\n",
        "  return u, u_t, u_x, u_xx\n"
      ]
    },
    {
      "cell_type": "code",
      "execution_count": 28,
      "metadata": {
        "id": "-b5eiVdvXUWJ"
      },
      "outputs": [],
      "source": [
        "def custom_loss(model, ...):\n",
        "    ...\n",
        "    return REPLACEME\n"
      ]
    },
    {
      "cell_type": "code",
      "execution_count": 29,
      "metadata": {
        "id": "j3NBN2ikajU_"
      },
      "outputs": [],
      "source": [
        "def get_grad(model, X_r, X, y):\n",
        "    # model derivatives for backprop\n",
        "    ...\n",
        "\n",
        "    return loss, g"
      ]
    },
    {
      "cell_type": "markdown",
      "metadata": {
        "id": "KqnMv2x-nVjz"
      },
      "source": [
        "## train the model"
      ]
    },
    {
      "cell_type": "code",
      "execution_count": 30,
      "metadata": {
        "id": "kljhNSUpcwvC"
      },
      "outputs": [],
      "source": [
        "import copy"
      ]
    },
    {
      "cell_type": "code",
      "execution_count": 31,
      "metadata": {
        "id": "Uc_4XKyddhLf"
      },
      "outputs": [],
      "source": [
        "pinn = tf.keras.Sequential()\n",
        "\n",
        "#input layer with 2 neurons for 2 dimensions\n",
        "...\n",
        "#hidden layers\n",
        "for i in range(8):\n",
        "  ...\n",
        "#output layer is 1D\n",
        "..."
      ]
    },
    {
      "cell_type": "code",
      "execution_count": null,
      "metadata": {
        "id": "2_ctaoIxaP-a"
      },
      "outputs": [],
      "source": [
        "@tf.function\n",
        "def train_step(model, X_r, X, y):\n",
        "\n",
        "  loss, grad = get_grad(model, X_r, X, y)\n",
        "  optim.apply_gradients(zip(grad, model.trainable_variables))\n",
        "  return loss\n",
        "\n",
        "optim = tf.keras.optimizers.Adam(learning_rate=0.005)\n",
        "pinn.compile(loss=custom_loss, optimizer=optim) #change the loss and optimization\n",
        "\n",
        "history = []\n",
        "Nepochs = 5000\n",
        "for i in range(Nepochs):\n",
        "  loss = train_step(pinn, X_r, X, y)\n",
        "  history.append(loss.numpy())\n",
        "  # Output current loss after 50 iterates\n",
        "  if i%50 == 0:\n",
        "        print('It {:05d}: loss = {:10.8e}'.format(i,loss))\n",
        "\n"
      ]
    },
    {
      "cell_type": "code",
      "execution_count": null,
      "metadata": {
        "id": "_4AEovRPeCud"
      },
      "outputs": [],
      "source": [
        "pl.scatter(t_0, x_0, c=u_0, marker='o', clim=(-1,1))\n",
        "pl.scatter(t_b, x_b, c=u_b, marker='o', clim=(-1,1))\n",
        "pl.scatter(t_r, x_r, c=pinn.predict(tf.concat([t_r, x_r], axis=1)), marker='.',\n",
        "           s=0.2, alpha=0.7, clim=(-1,1))\n",
        "pl.xlabel(\"t\")\n",
        "pl.ylabel(\"x\");"
      ]
    },
    {
      "cell_type": "code",
      "execution_count": null,
      "metadata": {
        "id": "w4FDNitbBP7n"
      },
      "outputs": [],
      "source": [
        "ax = pl.figure(figsize=(5,5)).add_subplot(111)\n",
        "ax.set_xlabel(\"t\")\n",
        "ax.set_ylabel(\"x\");\n",
        "ax.scatter(t_0, x_0, c=u_0, marker='o', clim=(-1,1))\n",
        "ax.scatter(t_b, x_b, c=u_b, marker='o', clim=(-1,1))\n",
        "ax.scatter(t_r, x_r, c=pinn.predict(tf.concat([t_r, x_r], axis=1)),\n",
        "           marker='.', s=0.2, alpha=0.7, clim=(-1,1))\n",
        "pl.xlabel(\"t\")\n",
        "pl.ylabel(\"x\");\n",
        "ax.set_aspect(0.3);"
      ]
    },
    {
      "cell_type": "code",
      "execution_count": null,
      "metadata": {
        "id": "KNRKimWWmf5Y"
      },
      "outputs": [],
      "source": [
        "pl.semilogy(history)\n",
        "pl.xlabel(\"epochs\")\n",
        "pl.ylabel(\"loss\");"
      ]
    },
    {
      "cell_type": "code",
      "execution_count": null,
      "metadata": {
        "id": "7wesmph5Sbet"
      },
      "outputs": [],
      "source": [
        "L1accuracy(t, x, pinn)"
      ]
    },
    {
      "cell_type": "markdown",
      "source": [
        "# adjust the learning rate and trin some more\n",
        "the loss was awfully noisy"
      ],
      "metadata": {
        "id": "wEetR5TfyVbF"
      }
    },
    {
      "cell_type": "code",
      "execution_count": 37,
      "metadata": {
        "id": "UlyesOXAnXUc"
      },
      "outputs": [],
      "source": [
        "from tensorflow.keras.backend import set_value\n",
        "set_value(pinn.optimizer.lr, 0.0001)"
      ]
    },
    {
      "cell_type": "code",
      "execution_count": null,
      "metadata": {
        "id": "jAeVBFghmd3w"
      },
      "outputs": [],
      "source": [
        "Nepochs = 10000\n",
        "for i in range(Nepochs):\n",
        "  loss = train_step(pinn, X_r, X, y)\n",
        "  history.append(loss.numpy())\n",
        "  # Output current loss after 50 iterates\n",
        "  if i%50 == 0:\n",
        "        print('It {:05d}: loss = {:10.8e}'.format(i,loss))\n"
      ]
    },
    {
      "cell_type": "code",
      "execution_count": null,
      "metadata": {
        "id": "uA_op6TPosrm"
      },
      "outputs": [],
      "source": [
        "pl.semilogy(history)\n",
        "pl.xlabel(\"epochs\")\n",
        "pl.ylabel(\"loss\")"
      ]
    },
    {
      "cell_type": "code",
      "execution_count": null,
      "metadata": {
        "id": "QFVaBF5PosGs"
      },
      "outputs": [],
      "source": [
        "ax = pl.figure(figsize=(5,5)).add_subplot()\n",
        "ax.imshow(Z[::-1],extent=[0,1,-1,1], alpha=0.2)\n",
        "ax.scatter(t_0, x_0, c=u_0, marker='o', clim=(-1,1))\n",
        "ax.scatter(t_b, x_b, c=u_b, marker='o', clim=(-1,1))\n",
        "ax.scatter(t_r, x_r, c=pinn.predict(tf.concat([t_r, x_r], axis=1)),\n",
        "           marker='.', s=0.2, alpha=0.7, clim=(-1,1))\n",
        "ax.set_xlabel(\"t\")\n",
        "ax.set_ylabel(\"x\");\n",
        "ax.set_aspect(0.3);"
      ]
    },
    {
      "cell_type": "code",
      "execution_count": null,
      "metadata": {
        "id": "TFEXXFmoM4vY"
      },
      "outputs": [],
      "source": [
        "Nepochs = 10000\n",
        "for i in range(Nepochs):\n",
        "  loss = train_step(pinn, X_r, X, y)\n",
        "  history.append(loss.numpy())\n",
        "  # Output current loss after 50 iterates\n",
        "  if i%50 == 0:\n",
        "        print('It {:05d}: loss = {:10.8e}'.format(i,loss))"
      ]
    },
    {
      "cell_type": "code",
      "execution_count": null,
      "metadata": {
        "id": "Lc9KXwiGqU7k"
      },
      "outputs": [],
      "source": [
        "pl.semilogy(history)\n",
        "pl.xlabel(\"epochs\")\n",
        "pl.ylabel(\"loss\")"
      ]
    },
    {
      "cell_type": "markdown",
      "metadata": {
        "id": "KSKUPMP6sT--"
      },
      "source": [
        "## final result"
      ]
    },
    {
      "cell_type": "code",
      "execution_count": null,
      "metadata": {
        "id": "fbvfZs3cqib2"
      },
      "outputs": [],
      "source": [
        "for i in range(3):\n",
        "  pl.figure()\n",
        "  pl.title(\"time = %.2f\"%t[inds[i]])\n",
        "  pl.plot(x, Z[:,inds[i]])\n",
        "  tmp_[:,0] = t[inds[i]]\n",
        "  pl.scatter(x, pinn.predict(tmp_), marker='.', edgecolors=\"IndianRed\")\n",
        "  pl.xlabel(\"x\")\n",
        "  pl.ylabel(\"u(t, x)\");"
      ]
    },
    {
      "cell_type": "code",
      "execution_count": null,
      "metadata": {
        "id": "hxMdR5MtqaoV"
      },
      "outputs": [],
      "source": [
        "ax = pl.figure(figsize=(5,5)).add_subplot(111)\n",
        "ax.imshow(Z[::-1], extent=[0,1,-1,1], alpha=0.2)\n",
        "ax.scatter(t_0, x_0, c=u_0, marker='o', clim=(-1,1))\n",
        "ax.scatter(t_b, x_b, c=u_b, marker='o', clim=(-1,1))\n",
        "ax.scatter(t_r, x_r, c=pinn.predict(tf.concat([t_r, x_r], axis=1)),\n",
        "           marker='.', s=0.2, alpha=0.7, clim=(-1,1))\n",
        "ax.set_xlabel(\"t\")\n",
        "ax.set_ylabel(\"x\");\n",
        "ax.set_aspect(0.3)\n",
        "#pl.colorbar();"
      ]
    },
    {
      "cell_type": "code",
      "execution_count": null,
      "metadata": {
        "id": "h0uapoZ9KAZs"
      },
      "outputs": [],
      "source": [
        "L1accuracy(t, x, pinn)"
      ]
    },
    {
      "cell_type": "code",
      "execution_count": 45,
      "metadata": {
        "id": "2maNE9_UcAgt"
      },
      "outputs": [],
      "source": []
    }
  ],
  "metadata": {
    "accelerator": "GPU",
    "colab": {
      "provenance": [],
      "authorship_tag": "ABX9TyPKMlAX9oNWC4SN9kdD5/5j",
      "include_colab_link": true
    },
    "kernelspec": {
      "display_name": "Python 3",
      "name": "python3"
    },
    "language_info": {
      "name": "python"
    }
  },
  "nbformat": 4,
  "nbformat_minor": 0
}