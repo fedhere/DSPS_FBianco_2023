{
  "nbformat": 4,
  "nbformat_minor": 0,
  "metadata": {
    "colab": {
      "provenance": [],
      "include_colab_link": true
    },
    "kernelspec": {
      "name": "python3",
      "display_name": "Python 3"
    }
  },
  "cells": [
    {
      "cell_type": "markdown",
      "metadata": {
        "id": "view-in-github",
        "colab_type": "text"
      },
      "source": [
        "<a href=\"https://colab.research.google.com/github/fedhere/DSPS_FBianco/blob/main/HW7/clusteringGenes_instructionsDSPS2023.ipynb\" target=\"_parent\"><img src=\"https://colab.research.google.com/assets/colab-badge.svg\" alt=\"Open In Colab\"/></a>"
      ]
    },
    {
      "cell_type": "code",
      "source": [
        "!pip install umap-learn\n",
        "!pip install umap-learn[plot]"
      ],
      "metadata": {
        "id": "UGuX0usRhyWT"
      },
      "execution_count": null,
      "outputs": []
    },
    {
      "cell_type": "code",
      "metadata": {
        "id": "VZJtP61lvYgB",
        "colab": {
          "base_uri": "https://localhost:8080/"
        },
        "outputId": "0e361625-454f-4e7b-b0c9-23b874dede7f"
      },
      "source": [
        "import numpy as np\n",
        "import pandas as pd\n",
        "import pylab as plt\n",
        "import scipy as sp\n",
        "import sklearn as skl\n",
        "from sklearn import cluster\n",
        "import umap\n",
        "import umap.plot\n",
        "from scipy.cluster.hierarchy import dendrogram, linkage\n",
        "\n",
        "%pylab inline"
      ],
      "execution_count": null,
      "outputs": [
        {
          "output_type": "stream",
          "name": "stdout",
          "text": [
            "Populating the interactive namespace from numpy and matplotlib\n"
          ]
        },
        {
          "output_type": "stream",
          "name": "stderr",
          "text": [
            "/usr/local/lib/python3.10/dist-packages/umap/plot.py:203: NumbaDeprecationWarning: The keyword argument 'nopython=False' was supplied. From Numba 0.59.0 the default is being changed to True and use of 'nopython=False' will raise a warning as the argument will have no effect. See https://numba.readthedocs.io/en/stable/reference/deprecation.html#deprecation-of-object-mode-fall-back-behaviour-when-using-jit for details.\n",
            "  @numba.jit(nopython=False)\n"
          ]
        }
      ]
    },
    {
      "cell_type": "markdown",
      "source": [
        "# I  read the data\n",
        "in https://github.com/fedhere/DSPS_FBianco/tree/master/HW7\n",
        "its called kidpackgene.csv"
      ],
      "metadata": {
        "id": "gnQL7taqh8U1"
      }
    },
    {
      "cell_type": "code",
      "metadata": {
        "id": "JI2KBXS0wJUX"
      },
      "source": [
        "genes = pd.read_csv("
      ],
      "execution_count": null,
      "outputs": []
    },
    {
      "cell_type": "markdown",
      "source": [
        "make sure you are not reading the index as a feature! you can control this with the index_col paramter of the function pd.read_csv or remove the column after you read the data in\n"
      ],
      "metadata": {
        "id": "wT47HMX_6vY3"
      }
    },
    {
      "cell_type": "markdown",
      "source": [
        "make sure you show the data and look at it carefully"
      ],
      "metadata": {
        "id": "IkkAzO1vjLBf"
      }
    },
    {
      "cell_type": "code",
      "metadata": {
        "id": "4mUXbPFs65LH",
        "colab": {
          "base_uri": "https://localhost:8080/"
        },
        "outputId": "a0575a62-f3de-4af5-ce10-9ff9b36b4a4a"
      },
      "source": [
        "genes.shape"
      ],
      "execution_count": null,
      "outputs": [
        {
          "output_type": "execute_result",
          "data": {
            "text/plain": [
              "(2603, 75)"
            ]
          },
          "metadata": {},
          "execution_count": 6
        }
      ]
    },
    {
      "cell_type": "markdown",
      "metadata": {
        "id": "pkE4re17H6cx"
      },
      "source": [
        "# II  Explore and preprocess the data  explore the data.\n"
      ]
    },
    {
      "cell_type": "markdown",
      "source": [
        "## II a\n",
        "missing values? (remember you can use the missingno package and visualize the missing values!). What should you do with them?"
      ],
      "metadata": {
        "id": "_p6IF6t8pEcE"
      }
    },
    {
      "cell_type": "code",
      "source": [
        "..."
      ],
      "metadata": {
        "id": "zyNwpYOepJmS"
      },
      "execution_count": null,
      "outputs": []
    },
    {
      "cell_type": "markdown",
      "metadata": {
        "id": "vlcivICbIDug"
      },
      "source": [
        "## II b\n",
        "whiten it, normalize it, scale it. What is appropriate? discuss your choices"
      ]
    },
    {
      "cell_type": "code",
      "metadata": {
        "id": "UYauFQS0IUli"
      },
      "source": [
        "#delete\n",
        "scaledgenes = ..."
      ],
      "execution_count": null,
      "outputs": []
    },
    {
      "cell_type": "code",
      "metadata": {
        "id": "lUuS2Pf_7fC-"
      },
      "source": [
        "\n",
        "scaledgenes.mean(0).round(2), scaledgenes.std(0)"
      ],
      "execution_count": null,
      "outputs": []
    },
    {
      "cell_type": "markdown",
      "metadata": {
        "id": "ZW8bRqIKIJhq"
      },
      "source": [
        "# III Visualize the data\n"
      ]
    },
    {
      "cell_type": "markdown",
      "source": [
        "## III-a calculate and plot a t-SNE rojection of the data on an optimal 2D plane"
      ],
      "metadata": {
        "id": "u5-5LLcIpSMI"
      }
    },
    {
      "cell_type": "code",
      "source": [
        "skl.manifold.TSNE?\n"
      ],
      "metadata": {
        "id": "dJOAJOkwaG3K"
      },
      "execution_count": null,
      "outputs": []
    },
    {
      "cell_type": "markdown",
      "source": [
        "The hyperparameteres perplexity and possibly early_exaggeration may significantly impact the result. Find values that give you some structure in the data. Make sure you read the docstring and info on tSNE!"
      ],
      "metadata": {
        "id": "XfoLUefSjz2U"
      }
    },
    {
      "cell_type": "code",
      "metadata": {
        "id": "L--jvOuu77I-"
      },
      "source": [
        "#delete\n",
        "twodproj = skl.manifold.TSNE(...\n"
      ],
      "execution_count": null,
      "outputs": []
    },
    {
      "cell_type": "code",
      "metadata": {
        "id": "0m_MHk2D8IKi",
        "colab": {
          "base_uri": "https://localhost:8080/"
        },
        "outputId": "2ac6d717-ac96-40db-be70-5af633d05d19"
      },
      "source": [
        "twodproj.shape"
      ],
      "execution_count": null,
      "outputs": [
        {
          "output_type": "execute_result",
          "data": {
            "text/plain": [
              "(2602, 2)"
            ]
          },
          "metadata": {},
          "execution_count": 12
        }
      ]
    },
    {
      "cell_type": "markdown",
      "metadata": {
        "id": "4XI_oOjeIc6i"
      },
      "source": [
        "plot the TSNE 2D projection\n"
      ]
    },
    {
      "cell_type": "code",
      "metadata": {
        "id": "jW8q0dRo9CHU"
      },
      "source": [
        "plt.plot(..."
      ],
      "execution_count": null,
      "outputs": []
    },
    {
      "cell_type": "markdown",
      "source": [
        "## III-b calculate and plot the UMAP 2D projection"
      ],
      "metadata": {
        "id": "5gKcaVfAkW1A"
      }
    },
    {
      "cell_type": "code",
      "source": [
        "mapper = umap.UMAP(...\n",
        "ax = plt.subplot()\n",
        "umap.plot.points(..."
      ],
      "metadata": {
        "id": "ua9kgt7GbuVb"
      },
      "execution_count": null,
      "outputs": []
    },
    {
      "cell_type": "markdown",
      "source": [
        "# IV K-MEANS Clustering"
      ],
      "metadata": {
        "id": "iW8ejjKSko4i"
      }
    },
    {
      "cell_type": "markdown",
      "metadata": {
        "id": "gbL-sqSwIi1K"
      },
      "source": [
        "## IV-a find the best number of culsters for this dataset\n",
        "\n",
        "create a function that measures the intracluster variance\n",
        "\n",
        "the intracluster variance is the sum of the variance of each cluster\n",
        "$V =\\sum_J \\sum_i{(X_{i\\in j} - \\bar{X_j})^2}$ for $i$ points in $j$ clusters"
      ]
    },
    {
      "cell_type": "code",
      "metadata": {
        "id": "ITKqLVelAxDT"
      },
      "source": [
        "#delete\n",
        "def calICVar(X, labels):\n",
        "    \"\"\"calculates the intracluster variance of the k-MEANS algorithm\n",
        "    X: the input data (ndarray)\n",
        "    labels: the labels indicating the cluster of each datapoint: same number of data as X\n",
        "    \"\"\"\n",
        "    ...\n",
        "    return icvar\n"
      ],
      "execution_count": null,
      "outputs": []
    },
    {
      "cell_type": "markdown",
      "metadata": {
        "id": "dNtMb3JcItsv"
      },
      "source": [
        "cluster the data with K-Means using 1 to 10 clusters. Calculate the intracluster variance and look for an \"elbow\" in the value of the intracluster variance as a function of number of clusters/ What is the optimal number of clusters?"
      ]
    },
    {
      "cell_type": "code",
      "metadata": {
        "id": "C4GCdv3Z-LW_"
      },
      "source": [
        "vars = [] #list of intracluster variance values for KMeans being run with 1->10 clusters\n",
        "..."
      ],
      "execution_count": null,
      "outputs": []
    },
    {
      "cell_type": "code",
      "metadata": {
        "id": "3r60E4ETCD11"
      },
      "source": [
        "# elbow plot\n",
        "plt.plot("
      ],
      "execution_count": null,
      "outputs": []
    },
    {
      "cell_type": "markdown",
      "metadata": {
        "id": "xC97yL8bJE2U"
      },
      "source": [
        "Based on the elbow plot above (see also slides) what is the right number of clusters for this dataset? DISCUSS!"
      ]
    },
    {
      "cell_type": "markdown",
      "source": [
        "## IV-b Cluster the data with k-Means into the number of clusters as determined from the elbow"
      ],
      "metadata": {
        "id": "DEQq9BzrmS7I"
      }
    },
    {
      "cell_type": "code",
      "metadata": {
        "id": "_A-R9c0XCOTH"
      },
      "source": [
        "geneclustersKM = ...\n"
      ],
      "execution_count": null,
      "outputs": []
    },
    {
      "cell_type": "markdown",
      "source": [
        "## IV-c plot and plot the t-SNY and UMAP projections of the data using the cluster number as color"
      ],
      "metadata": {
        "id": "LoplrYaFoQeA"
      }
    },
    {
      "cell_type": "code",
      "source": [
        "ax = ..."
      ],
      "metadata": {
        "id": "4-VV3pEYoTRi"
      },
      "execution_count": null,
      "outputs": []
    },
    {
      "cell_type": "code",
      "source": [
        "umap.plot.points(..."
      ],
      "metadata": {
        "id": "mLJ6GI6ce7Qj"
      },
      "execution_count": null,
      "outputs": []
    },
    {
      "cell_type": "markdown",
      "metadata": {
        "id": "a-eHKQ87JZOr"
      },
      "source": [
        "# Use dDSCAN or hierarchical clustering (461 pick either DBSCAN or hierarchical) and redo the clustering. Can you find the same number of clusters?"
      ]
    },
    {
      "cell_type": "markdown",
      "metadata": {
        "id": "5_6yn7nkJflN"
      },
      "source": [
        "# V DBSCAN Clustering\n"
      ]
    },
    {
      "cell_type": "markdown",
      "source": [
        "## V-a measure the distribution of Euclidean distances\n",
        "\n",
        "It is important to choose the hyperparamters of DBSCAN wisely. Initialize the _eps_ parameter of DBSCAN based on the mean Euclidean distance. To that end, calculate and plot the Euclidean distance matrix of each point pairs if you have not yet"
      ],
      "metadata": {
        "id": "9i9tQCdoqO0-"
      }
    },
    {
      "cell_type": "code",
      "metadata": {
        "id": "WIyzqXA8-6GC"
      },
      "source": [
        "dists = sp.spatial.distance.pdist(..."
      ],
      "execution_count": null,
      "outputs": []
    },
    {
      "cell_type": "code",
      "metadata": {
        "id": "gcGmhzOa_HbT"
      },
      "source": [
        "plt.imshow(...\n"
      ],
      "execution_count": null,
      "outputs": []
    },
    {
      "cell_type": "markdown",
      "metadata": {
        "id": "5Ku9uw2bJxs9"
      },
      "source": [
        " make a histogram of the pairwise distances. You should choose a value to initialize dbscan that is below the mean"
      ]
    },
    {
      "cell_type": "code",
      "metadata": {
        "id": "fBaG66V9AQQR"
      },
      "source": [
        "plt..."
      ],
      "execution_count": null,
      "outputs": []
    },
    {
      "cell_type": "markdown",
      "metadata": {
        "id": "jFl0v2CoKDBq"
      },
      "source": [
        "## V-b Rub DBSCAN\n",
        "\n",
        "initialize the dbscan _eps_ hyperparameter value appropriately and fit a dbscan model to the data plot the 2D TSNE projection colorcoded as before. How many clusters do you have, how many outliers? is that a significant number?"
      ]
    },
    {
      "cell_type": "code",
      "metadata": {
        "id": "rq4I_RZ9_x7m"
      },
      "source": [
        "geneclustersDBS = skl.cluster.DBSCAN(...\n",
        "\n",
        "np.unique(geneclustersDBS.labels_)"
      ],
      "execution_count": null,
      "outputs": []
    },
    {
      "cell_type": "markdown",
      "source": [
        "## V-c plot the data in the t-SNE and UMAP projections color-coded by DBSCAN cluster"
      ],
      "metadata": {
        "id": "M-buEp0LqkYx"
      }
    },
    {
      "cell_type": "code",
      "metadata": {
        "id": "8Af04O4LACaE"
      },
      "source": [
        "plt.scatter(..."
      ],
      "execution_count": null,
      "outputs": []
    },
    {
      "cell_type": "code",
      "source": [
        "umap.plot.points(..."
      ],
      "metadata": {
        "id": "cplzpQkrfWDq"
      },
      "execution_count": null,
      "outputs": []
    },
    {
      "cell_type": "markdown",
      "metadata": {
        "id": "8NaGfMrmKupd"
      },
      "source": [
        "# VI Agglomerative clustering\n"
      ]
    },
    {
      "cell_type": "markdown",
      "source": [
        "## VI-a run agglomerative clustering with standard distance choices: ward linkage and Euclidean distance"
      ],
      "metadata": {
        "id": "bdqZGFtKrCn2"
      }
    },
    {
      "cell_type": "code",
      "metadata": {
        "id": "wHcKbo1QCktQ"
      },
      "source": [
        "clusteringAg = skl.cluster.AgglomerativeClustering(..."
      ],
      "execution_count": null,
      "outputs": []
    },
    {
      "cell_type": "markdown",
      "metadata": {
        "id": "6wveDa6ELOBY"
      },
      "source": [
        "choose ward linkage and plot the dendrogram of the clusters"
      ]
    },
    {
      "cell_type": "code",
      "metadata": {
        "id": "Pr30oop4E2jN"
      },
      "source": [
        "Z = linkage(scaledgenes, 'ward')\n",
        "fig = plt.figure(figsize=(25, 10))\n",
        "dn = dendrogram(Z)"
      ],
      "execution_count": null,
      "outputs": []
    },
    {
      "cell_type": "markdown",
      "metadata": {
        "id": "uqkWdEnTMSes"
      },
      "source": [
        "repeat with a different linkage and comment on differences"
      ]
    },
    {
      "cell_type": "code",
      "metadata": {
        "id": "fxOo4LT1F6q0"
      },
      "source": [
        "Z = ..."
      ],
      "execution_count": null,
      "outputs": []
    },
    {
      "cell_type": "markdown",
      "metadata": {
        "id": "lNsd1HxkML35"
      },
      "source": [
        "# VI-b rerun agglomerative cluatering to get the \"ideal\" number of clusters as decided by k-means.\n",
        "\n"
      ]
    },
    {
      "cell_type": "code",
      "metadata": {
        "id": "ZQS1eaF0MNHn"
      },
      "source": [
        "geneclustersAg = skl.cluster.AgglomerativeClustering(n_clusters=..."
      ],
      "execution_count": null,
      "outputs": []
    },
    {
      "cell_type": "code",
      "metadata": {
        "id": "1unHLA-HN_vO"
      },
      "source": [
        "geneclustersAg.labels_"
      ],
      "execution_count": null,
      "outputs": []
    },
    {
      "cell_type": "markdown",
      "source": [
        "## VI-c plot the 2D TSNE projection colorcoded as before"
      ],
      "metadata": {
        "id": "nw64WNi3rSAc"
      }
    },
    {
      "cell_type": "code",
      "metadata": {
        "id": "rgouq9MHOBjl"
      },
      "source": [
        "plt.scatter(..."
      ],
      "execution_count": null,
      "outputs": []
    },
    {
      "cell_type": "markdown",
      "source": [
        "# VII Comment, in the spirit of https://www.ncbi.nlm.nih.gov/pmc/articles/PMC187526, which was the most \"useful\" method for clustering"
      ],
      "metadata": {
        "id": "RttbRU7uOSCr"
      }
    }
  ]
}