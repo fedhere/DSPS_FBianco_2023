{
  "nbformat": 4,
  "nbformat_minor": 0,
  "metadata": {
    "colab": {
      "provenance": [],
      "gpuType": "T4",
      "authorship_tag": "ABX9TyP9BKR5NsJ+phYOUc1tAbJU",
      "include_colab_link": true
    },
    "kernelspec": {
      "name": "python3",
      "display_name": "Python 3"
    },
    "language_info": {
      "name": "python"
    },
    "accelerator": "GPU"
  },
  "cells": [
    {
      "cell_type": "markdown",
      "metadata": {
        "id": "view-in-github",
        "colab_type": "text"
      },
      "source": [
        "<a href=\"https://colab.research.google.com/github/fedhere/DSPS_FBianco/blob/main/ClassDemos/DSPS2023_autoencoders_8dec23_students.ipynb\" target=\"_parent\"><img src=\"https://colab.research.google.com/assets/colab-badge.svg\" alt=\"Open In Colab\"/></a>"
      ]
    },
    {
      "cell_type": "code",
      "execution_count": null,
      "metadata": {
        "id": "RuoNYW1mOwbm"
      },
      "outputs": [],
      "source": [
        "from copy import deepcopy\n",
        "\n",
        "import numpy as np\n",
        "import pandas as pd\n",
        "from matplotlib import pyplot as plt\n",
        "from scipy import stats\n",
        "from scipy.signal import convolve2d\n",
        "\n",
        "from tensorflow import keras\n",
        "from keras.datasets import mnist\n",
        "from keras import layers\n",
        "\n",
        "!pip install icecream\n",
        "from icecream import ic\n",
        "\n",
        "rng = np.random.RandomState(1415)"
      ]
    },
    {
      "cell_type": "markdown",
      "source": [
        "# Load MNIST data"
      ],
      "metadata": {
        "id": "_oo3vtrPR_3c"
      }
    },
    {
      "cell_type": "code",
      "source": [
        "# Load the data and split it between train and test sets\n",
        "(Xtrn, Ytrn), (Xtst, Ytst) = mnist.load_data()"
      ],
      "metadata": {
        "id": "dpyQjiCNPqc_"
      },
      "execution_count": null,
      "outputs": []
    },
    {
      "cell_type": "markdown",
      "source": [
        "# Visualize dataset"
      ],
      "metadata": {
        "id": "fH-viokjSBY2"
      }
    },
    {
      "cell_type": "code",
      "source": [],
      "metadata": {
        "id": "80PJ4mgLQBC4"
      },
      "execution_count": null,
      "outputs": []
    },
    {
      "cell_type": "markdown",
      "source": [
        "# Normalize the images"
      ],
      "metadata": {
        "id": "H_KmtM6oSFKv"
      }
    },
    {
      "cell_type": "code",
      "source": [],
      "metadata": {
        "id": "AgjOHLXyQZHX"
      },
      "execution_count": null,
      "outputs": []
    },
    {
      "cell_type": "markdown",
      "source": [
        "# Reshape the arrays for Keras"
      ],
      "metadata": {
        "id": "QH1ZOFAcSIX2"
      }
    },
    {
      "cell_type": "code",
      "source": [],
      "metadata": {
        "id": "kb2VmJ0TREBY"
      },
      "execution_count": null,
      "outputs": []
    },
    {
      "cell_type": "markdown",
      "source": [
        "# One-hot encode the image labels"
      ],
      "metadata": {
        "id": "EbKTdfYeSK72"
      }
    },
    {
      "cell_type": "code",
      "source": [],
      "metadata": {
        "id": "GtTQHFepRONH"
      },
      "execution_count": null,
      "outputs": []
    },
    {
      "cell_type": "markdown",
      "source": [
        "# But wait we don't need the image labels...\n",
        "\n",
        "### The training set will be the images at half resolution, and the model will try to up-sample the images to the original resolution... `Xtrn` should be the same 60,000 images at half resolution, but `Ytrn` should be those same images at the original resolution. We will do the same operations for the testing set."
      ],
      "metadata": {
        "id": "_S-EMSNOSNLu"
      }
    },
    {
      "cell_type": "markdown",
      "source": [
        "# Construct dataset for superresolution, not image classification"
      ],
      "metadata": {
        "id": "SQL_p2chUiaj"
      }
    },
    {
      "cell_type": "code",
      "source": [],
      "metadata": {
        "id": "rBk9ZWqPSSoz"
      },
      "execution_count": null,
      "outputs": []
    },
    {
      "cell_type": "markdown",
      "source": [
        "# Visualize the new dataset"
      ],
      "metadata": {
        "id": "OuAwvxvmUn3_"
      }
    },
    {
      "cell_type": "code",
      "source": [],
      "metadata": {
        "id": "XZYF2GJHTllR"
      },
      "execution_count": null,
      "outputs": []
    },
    {
      "cell_type": "markdown",
      "source": [
        "# Build the CNN autoencoder"
      ],
      "metadata": {
        "id": "TfehgOBqdDRw"
      }
    },
    {
      "cell_type": "code",
      "source": [],
      "metadata": {
        "id": "5eIGf4EVRZBJ"
      },
      "execution_count": null,
      "outputs": []
    },
    {
      "cell_type": "markdown",
      "source": [
        "# Train the model (use a GPU)"
      ],
      "metadata": {
        "id": "e9dOm3UVdFbF"
      }
    },
    {
      "cell_type": "code",
      "source": [],
      "metadata": {
        "id": "NTgClN6JWu3G"
      },
      "execution_count": null,
      "outputs": []
    },
    {
      "cell_type": "markdown",
      "source": [
        "# Visualize loss curve"
      ],
      "metadata": {
        "id": "jCtssCsCghLu"
      }
    },
    {
      "cell_type": "code",
      "source": [],
      "metadata": {
        "id": "y36uoQebmCpA"
      },
      "execution_count": null,
      "outputs": []
    },
    {
      "cell_type": "markdown",
      "source": [
        "# Visualize the predictions"
      ],
      "metadata": {
        "id": "1YvnvNBhdIMW"
      }
    },
    {
      "cell_type": "code",
      "source": [],
      "metadata": {
        "id": "zIEoOmPiZ_Sg"
      },
      "execution_count": null,
      "outputs": []
    },
    {
      "cell_type": "code",
      "source": [],
      "metadata": {
        "id": "73a4iYicbVP0"
      },
      "execution_count": null,
      "outputs": []
    },
    {
      "cell_type": "code",
      "source": [],
      "metadata": {
        "id": "jjq6VYGeaoqN"
      },
      "execution_count": null,
      "outputs": []
    },
    {
      "cell_type": "code",
      "source": [],
      "metadata": {
        "id": "7sgzfBxPa3fV"
      },
      "execution_count": null,
      "outputs": []
    },
    {
      "cell_type": "markdown",
      "source": [
        "# Visualize the early layers"
      ],
      "metadata": {
        "id": "PWOoDXjOl4JM"
      }
    },
    {
      "cell_type": "code",
      "source": [],
      "metadata": {
        "id": "W8OSOKV4ogFz"
      },
      "execution_count": null,
      "outputs": []
    },
    {
      "cell_type": "markdown",
      "source": [
        "# Visualize the latent space with the encoder and decoder on their own"
      ],
      "metadata": {
        "id": "yBA74IWmdeXO"
      }
    },
    {
      "cell_type": "code",
      "source": [],
      "metadata": {
        "id": "llfM7QbAbOns"
      },
      "execution_count": null,
      "outputs": []
    },
    {
      "cell_type": "code",
      "source": [],
      "metadata": {
        "id": "ltZGX-Jgd96g"
      },
      "execution_count": null,
      "outputs": []
    },
    {
      "cell_type": "code",
      "source": [],
      "metadata": {
        "id": "jlU5stuJeED1"
      },
      "execution_count": null,
      "outputs": []
    },
    {
      "cell_type": "markdown",
      "source": [
        "# Find the average latent space representation for each digit"
      ],
      "metadata": {
        "id": "7Th9g_8xsIRA"
      }
    },
    {
      "cell_type": "markdown",
      "source": [
        "# Decode latent space representations with the decoder"
      ],
      "metadata": {
        "id": "OyXR1YJ9sL0W"
      }
    },
    {
      "cell_type": "code",
      "source": [],
      "metadata": {
        "id": "m13lhu0SdxJ8"
      },
      "execution_count": null,
      "outputs": []
    },
    {
      "cell_type": "code",
      "source": [],
      "metadata": {
        "id": "_kFN0xDQfo9k"
      },
      "execution_count": null,
      "outputs": []
    },
    {
      "cell_type": "code",
      "source": [],
      "metadata": {
        "id": "zUyI6MJkftue"
      },
      "execution_count": null,
      "outputs": []
    },
    {
      "cell_type": "markdown",
      "source": [
        "# What if we input something in the latent space by hand and then decode it?"
      ],
      "metadata": {
        "id": "38mBopGng7PY"
      }
    },
    {
      "cell_type": "code",
      "source": [],
      "metadata": {
        "id": "MVp5P3UFinnT"
      },
      "execution_count": null,
      "outputs": []
    },
    {
      "cell_type": "code",
      "source": [],
      "metadata": {
        "id": "l5arjDQ0hlAE"
      },
      "execution_count": null,
      "outputs": []
    },
    {
      "cell_type": "code",
      "source": [],
      "metadata": {
        "id": "kEGBOQjKhzSs"
      },
      "execution_count": null,
      "outputs": []
    }
  ]
}