{
  "nbformat": 4,
  "nbformat_minor": 0,
  "metadata": {
    "colab": {
      "provenance": [],
      "authorship_tag": "ABX9TyOZwg1fKPSpwwH7rTOolEcF",
      "include_colab_link": true
    },
    "kernelspec": {
      "name": "python3",
      "display_name": "Python 3"
    },
    "language_info": {
      "name": "python"
    }
  },
  "cells": [
    {
      "cell_type": "markdown",
      "metadata": {
        "id": "view-in-github",
        "colab_type": "text"
      },
      "source": [
        "<a href=\"https://colab.research.google.com/github/fedhere/DSPS_FBianco/blob/main/labs/Gaussian_Process_Regression_WFF_23Oct2023.ipynb\" target=\"_parent\"><img src=\"https://colab.research.google.com/assets/colab-badge.svg\" alt=\"Open In Colab\"/></a>"
      ]
    },
    {
      "cell_type": "code",
      "execution_count": null,
      "metadata": {
        "id": "nfJymdFtRlL9"
      },
      "outputs": [],
      "source": [
        "import numpy as np\n",
        "from matplotlib import pyplot as plt\n",
        "from sklearn.model_selection import train_test_split\n",
        "\n",
        "rng = np.random.RandomState(1415)"
      ]
    },
    {
      "cell_type": "markdown",
      "source": [
        "# Generate Synthetic Dataset"
      ],
      "metadata": {
        "id": "af6XR459otal"
      }
    },
    {
      "cell_type": "code",
      "source": [
        "def gen_synthetic_data(nSynth, theta):\n",
        "\n",
        "    # Generate synthetic sample points between -1 and 1.\n",
        "    X  = rng.uniform(low=-1, high=1, size=nSynth)\n",
        "    # X = np.linspace(-1, 1, num=nSynth)\n",
        "\n",
        "    # Generate stochastic Gaussian noise for each sample.\n",
        "    E = np.abs(rng.normal(loc=0, scale=0.25, size=nSynth))\n",
        "    # E *= 0.00001\n",
        "\n",
        "    # Use Kernel function to make covariance matrix.\n",
        "    K = rbf_kernel(X, X, theta)\n",
        "\n",
        "    # A diagnoal matrix containing the stochastic Gaussian noise.\n",
        "    W = white_noise_kernel(E)\n",
        "\n",
        "    # C + W is the covariance matrix of the posterior distribution. Sample from it at mean 0.\n",
        "    Y = rng.multivariate_normal(np.zeros(nSynth), K + W)\n",
        "\n",
        "    return X, Y, E, K, W\n",
        "\n",
        "\n",
        "def rbf_kernel(X1, X2, theta):\n",
        "    uu, vv = np.meshgrid(X1, X2)\n",
        "    return np.exp(-(vv - uu)**2 / (2 * theta**2))\n",
        "\n",
        "\n",
        "def white_noise_kernel(E):\n",
        "    return np.diag(E**2)"
      ],
      "metadata": {
        "id": "4MyIt0XJXfsI"
      },
      "execution_count": null,
      "outputs": []
    },
    {
      "cell_type": "code",
      "source": [
        "theta = 0.1\n",
        "nSynth = 1000\n",
        "X, Y, E, K_true, W = gen_synthetic_data(nSynth, theta)\n",
        "\n",
        "fig, ax = plt.subplots(figsize=(12, 6))\n",
        "ax.set_title(f\"RBF length scale = {theta}\")\n",
        "\n",
        "ax.errorbar(\n",
        "    X, Y,\n",
        "    yerr=np.sqrt(np.diag(K_true+W)),\n",
        "    ls=\"\", marker=\"o\", ms=5,\n",
        "    elinewidth=1, capsize=5,\n",
        "    )\n",
        "\n",
        "ax.set_ylim(-10, 10)\n",
        "ax.set_xlabel(\"X: Measurement Points\")\n",
        "ax.set_ylabel(\"Y: Data\")\n",
        "fig.show()"
      ],
      "metadata": {
        "id": "BanHoJSZZ5Lf"
      },
      "execution_count": null,
      "outputs": []
    },
    {
      "cell_type": "code",
      "source": [
        "fig, ax = plt.subplots(1, 3, figsize=(14, 7))\n",
        "\n",
        "ax[0].set_title(f\"Plotting K(X, X), the covariance matrix.\\nRBF length scale = {theta}\")\n",
        "ax[0].imshow(K_true, vmin=-1, vmax=1)\n",
        "\n",
        "ax[1].set_title(\"Plotting W(X, X), the white noise matrix\")\n",
        "ax[1].imshow(W, vmin=-1, vmax=1)\n",
        "\n",
        "ax[2].set_title(\"Plotting K(X, X) + W(X, X)\")\n",
        "ax[2].imshow(K_true + W, vmin=-1, vmax=1)\n",
        "\n",
        "fig.show()"
      ],
      "metadata": {
        "id": "ZFJlgPHuj9YJ"
      },
      "execution_count": null,
      "outputs": []
    },
    {
      "cell_type": "markdown",
      "source": [
        "# Learn about Gaussian process fitting"
      ],
      "metadata": {
        "id": "h7cYWAwwow75"
      }
    },
    {
      "cell_type": "code",
      "source": [
        "Xtrn, Xtst, Ytrn, Ytst, Etrn, Etst = train_test_split(X, Y, E, train_size=0.05, random_state=rng, shuffle=True)\n",
        "\n",
        "print(Xtrn.shape, Ytrn.shape, Etrn.shape)\n",
        "print(Xtst.shape, Ytst.shape, Etst.shape)\n",
        "\n",
        "num_trn = Xtrn.shape[0]\n",
        "num_tst = Xtst.shape[0]"
      ],
      "metadata": {
        "id": "uvafgmQvdzRE"
      },
      "execution_count": null,
      "outputs": []
    },
    {
      "cell_type": "code",
      "source": [
        "fig, ax = plt.subplots(figsize=(12, 6))\n",
        "ax.set_title(f\"RBF length scale = {theta}\")\n",
        "\n",
        "ax.scatter(Xtrn, Ytrn, label=\"Training Data\")\n",
        "ax.scatter(Xtst, Ytst, label=\"Testing Data\", alpha=0.30)\n",
        "\n",
        "ax.set_ylim(-10, 10)\n",
        "ax.set_xlabel(\"X: Measurement Points\")\n",
        "ax.set_ylabel(\"Y: Data\")\n",
        "ax.legend()\n",
        "ax.grid()\n",
        "fig.show()"
      ],
      "metadata": {
        "id": "U0iSwRMbqYxB"
      },
      "execution_count": null,
      "outputs": []
    },
    {
      "cell_type": "code",
      "source": [
        "def fit_GP(Xtrn, Etrn, Ytrn, num_tst, theta):\n",
        "    K = rbf_kernel(Xtrn, Xtrn, theta)\n",
        "    W = white_noise_kernel(Etrn)\n",
        "\n",
        "    L = np.linalg.cholesky(K + W)\n",
        "\n",
        "    alpha = np.linalg.solve(L.T, np.linalg.solve(L, Ytrn))\n",
        "    nLML = -((-1/2) * np.dot(Ytrn, alpha) - np.sum(np.log(np.diag(L))) - (num_tst / 2) * np.log(2 * np.pi))\n",
        "\n",
        "    return K, W, L, alpha, nLML\n",
        "\n",
        "\n",
        "def predict_GP(Xtrn, Xprd, K, W, L, alpha, nLML):\n",
        "    Ks = rbf_kernel(Xprd, Xtrn, theta)\n",
        "    fbar_s = np.dot(Ks.T, alpha)\n",
        "\n",
        "    Kss = rbf_kernel(Xprd, Xprd, theta)\n",
        "    v = np.linalg.solve(L, Ks)\n",
        "    V_s = Kss - np.dot(v.T, v)\n",
        "    sigma = np.sqrt(np.abs(np.diag(V_s)))\n",
        "\n",
        "    return Ks, fbar_s, Kss, v, V_s, sigma"
      ],
      "metadata": {
        "id": "IzqgrkIPaKc5"
      },
      "execution_count": null,
      "outputs": []
    },
    {
      "cell_type": "code",
      "source": [
        "theta_guess = 0.1\n",
        "\n",
        "# Fit model\n",
        "Ktrn, Wtrn, L, alpha, nLML = fit_GP(Xtrn, Etrn, Ytrn, num_tst, theta_guess)\n",
        "print(Ktrn.shape, Wtrn.shape, L.shape, alpha.shape, nLML)"
      ],
      "metadata": {
        "id": "-HX67BMjdvgN"
      },
      "execution_count": null,
      "outputs": []
    },
    {
      "cell_type": "code",
      "source": [
        "fig, ax = plt.subplots(1, 3, figsize=(14, 7))\n",
        "\n",
        "ax[0].set_title(f\"Plotting K(Xtrn, Xtrn), the covariance matrix.\\nRBF length scale = {theta_guess}\")\n",
        "ax[0].imshow(Ktrn,\n",
        "             vmin=-1, vmax=1\n",
        "             )\n",
        "\n",
        "ax[1].set_title(\"Plotting W(Xtrn, Xtrn), the white noise matrix\")\n",
        "ax[1].imshow(Wtrn,\n",
        "             vmin=-1, vmax=1\n",
        "             )\n",
        "\n",
        "ax[2].set_title(\"Plotting K(Xtrn, Xtrn) + W(Xtrn, Xtrn)\")\n",
        "ax[2].imshow(Ktrn + Wtrn,\n",
        "             vmin=-1, vmax=1\n",
        "             )\n",
        "\n",
        "fig.show()"
      ],
      "metadata": {
        "id": "8oFtl3NphCVb"
      },
      "execution_count": null,
      "outputs": []
    },
    {
      "cell_type": "code",
      "source": [
        "Ks, fbar_s, Kss, v, V_s, sigma = predict_GP(Xtrn, Xtst, Ktrn, Wtrn, L, alpha, nLML)\n",
        "Ks.shape, fbar_s.shape, Kss.shape, v.shape, V_s.shape, sigma.shape"
      ],
      "metadata": {
        "id": "Um-vOsuPfZWH"
      },
      "execution_count": null,
      "outputs": []
    },
    {
      "cell_type": "code",
      "source": [
        "fig, ax = plt.subplots(2, 2, figsize=(14, 7))\n",
        "\n",
        "# ax[0, 0].set_title(f\"Plotting K(Xtrn, Xtrn), the covariance matrix.\\nRBF length scale = {theta_guess}\")\n",
        "ax[0, 0].imshow(Ktrn, vmin=-1, vmax=1)\n",
        "\n",
        "# ax[0, 1].set_title(f\"Plotting K(Xtrn, Xtrn), the covariance matrix.\\nRBF length scale = {theta_guess}\")\n",
        "ax[0, 1].imshow(Ks, vmin=-1, vmax=1)\n",
        "\n",
        "# ax[1, 0].set_title(f\"Plotting K(Xtrn, Xtrn), the covariance matrix.\\nRBF length scale = {theta_guess}\")\n",
        "ax[1, 0].imshow(Ks.T, vmin=-1, vmax=1)\n",
        "\n",
        "# ax[1, 1].set_title(f\"Plotting K(Xtrn, Xtrn), the covariance matrix.\\nRBF length scale = {theta_guess}\")\n",
        "ax[1, 1].imshow(Kss, vmin=-1, vmax=1)\n",
        "\n",
        "fig.suptitle(\"The full block matrix K\\nRBF length scale = {theta_guess}\")\n",
        "\n",
        "fig.show()"
      ],
      "metadata": {
        "id": "l_5pMtS9liNb"
      },
      "execution_count": null,
      "outputs": []
    },
    {
      "cell_type": "code",
      "source": [
        "fig, ax = plt.subplots(figsize=(12, 6))\n",
        "ax.set_title(f\"True RBF length scale = {theta}\\nFitted RBF length scale = {theta_guess}\")\n",
        "\n",
        "# ax.scatter(Xtrn, Ytrn, label=\"Training Data\", c=\"tab:blue\")\n",
        "# ax.scatter(Xtst, Ytst, label=\"Testing Data\", c=\"tab:orange\")\n",
        "\n",
        "ax.scatter(Xtst, fbar_s, label=\"Testing Data\", c=\"tab:green\")\n",
        "ind = np.argsort(Xtst)\n",
        "ax.fill_between(Xtst[ind], fbar_s[ind] - sigma[ind], fbar_s[ind] + sigma[ind],\n",
        "                alpha=0.5, color=\"tab:green\")\n",
        "\n",
        "ax.scatter(Xtrn, Ytrn, label=\"Training Data\", c=\"tab:blue\")\n",
        "\n",
        "# ax.errorbar(\n",
        "#     Xtst, fbar_s, label=\"Prediction\", c=\"tab:green\",\n",
        "#     yerr=sigma,\n",
        "#     ls=\"\", marker=\"o\", ms=5,\n",
        "#     elinewidth=1, capsize=5,\n",
        "#     )\n",
        "\n",
        "\n",
        "\n",
        "\n",
        "\n",
        "# ax.set_ylim(-10, 10)\n",
        "ax.set_xlabel(\"X, input\")\n",
        "ax.set_ylabel(\"Y, output f(X)\")\n",
        "fig.show()"
      ],
      "metadata": {
        "id": "wGZIKY2NmVfK"
      },
      "execution_count": null,
      "outputs": []
    },
    {
      "cell_type": "markdown",
      "source": [
        "# Optimizing the Gaussian process regressor"
      ],
      "metadata": {
        "id": "zCghc09CoHAP"
      }
    },
    {
      "cell_type": "code",
      "source": [],
      "metadata": {
        "id": "RqJAgKcMoG2G"
      },
      "execution_count": null,
      "outputs": []
    },
    {
      "cell_type": "code",
      "source": [],
      "metadata": {
        "id": "MtA-U5Eynnlg"
      },
      "execution_count": null,
      "outputs": []
    }
  ]
}