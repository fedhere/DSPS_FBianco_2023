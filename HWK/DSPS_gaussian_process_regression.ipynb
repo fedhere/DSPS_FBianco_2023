{
  "nbformat": 4,
  "nbformat_minor": 0,
  "metadata": {
    "colab": {
      "provenance": [],
      "authorship_tag": "ABX9TyPcFbRjJsAIA+OKIhBeArcu",
      "include_colab_link": true
    },
    "kernelspec": {
      "name": "python3",
      "display_name": "Python 3"
    },
    "language_info": {
      "name": "python"
    }
  },
  "cells": [
    {
      "cell_type": "markdown",
      "metadata": {
        "id": "view-in-github",
        "colab_type": "text"
      },
      "source": [
        "<a href=\"https://colab.research.google.com/github/fedhere/DSPS_FBianco/blob/main/HWK/DSPS_gaussian_process_regression.ipynb\" target=\"_parent\"><img src=\"https://colab.research.google.com/assets/colab-badge.svg\" alt=\"Open In Colab\"/></a>"
      ]
    },
    {
      "cell_type": "code",
      "execution_count": null,
      "metadata": {
        "id": "-BcnAqftj2Rn"
      },
      "outputs": [],
      "source": [
        "import numpy as np\n",
        "import pandas as pd\n",
        "from matplotlib import pyplot as plt\n",
        "import seaborn as sns\n",
        "from statsmodels.datasets import elnino\n",
        "\n",
        "!pip install george\n",
        "import george\n",
        "from george import kernels"
      ]
    },
    {
      "cell_type": "markdown",
      "source": [
        "# NB\n",
        "\n",
        "Code skeletons are provided for you, but you may change them as you please.\n",
        "\n",
        "It is not required, but I suggest you adjust and complete the given docstrings as you make changes."
      ],
      "metadata": {
        "id": "rRAQG0Fh1SUy"
      }
    },
    {
      "cell_type": "markdown",
      "source": [
        "# 0. The Dataset\n",
        "\n",
        "We'll be using the El Niño dataset from the `statsmodels` package. This first cell of code loads the dataset easily for you. Read the description of the dataset [here](https://www.statsmodels.org/devel/datasets/generated/elnino.html)."
      ],
      "metadata": {
        "id": "P29l6Ow-m0YL"
      }
    },
    {
      "cell_type": "code",
      "source": [
        "def load_elnino_dataset():\n",
        "    \"\"\"\n",
        "    Downloads the El Niño dataset from the statsmodels package.\n",
        "\n",
        "    Parameters\n",
        "    ----------\n",
        "    None\n",
        "\n",
        "    Returns\n",
        "    -------\n",
        "    df : pd.DataFrame\n",
        "        A Pandas dataframe containing the raw data of the El Niño dataset\n",
        "        directly from the statsmodels package.\n",
        "    \"\"\"\n",
        "    df = elnino.load_pandas().data\n",
        "    return df\n",
        "\n",
        "df = load_elnino_dataset()"
      ],
      "metadata": {
        "id": "gb_6gKNmpz9V"
      },
      "execution_count": null,
      "outputs": []
    },
    {
      "cell_type": "code",
      "source": [
        "def flatten_dataset(df):\n",
        "    \"\"\"\n",
        "    Flatten the data in the dataframe.\n",
        "\n",
        "    The sea surface temperature data is stored in a somewhat peculiar way in\n",
        "    this dataset. The data has rows for every year between 1950 and 2010, and\n",
        "    it has 12 columns for each month of each year.\n",
        "\n",
        "    Re-order the data such that there is one 1dim array for the temperature data.\n",
        "\n",
        "    Parameters\n",
        "    ----------\n",
        "    df : pd.DataFrame\n",
        "        The Pandas dataframe of the El Niño – Sea Surface Temperature dataset\n",
        "        from the statsmodels package.\n",
        "\n",
        "    Returns\n",
        "    -------\n",
        "    time : array-like\n",
        "        A shape (732,) array containing every month from January 1950 to\n",
        "        December 2010. You may encode the time as an integer\n",
        "        (`time = [0, 1, 2, 3, ...]), as strings (`time = ['January 1950', ...])\n",
        "        or however else you like.\n",
        "    data : array-like\n",
        "        A shape (732,) array containing the sea surface temperature for every\n",
        "        month between January 1950 to December 2010.\n",
        "    \"\"\"\n",
        "    # YOUR CODE HERE\n",
        "    raise NotImplementedError()\n",
        "\n",
        "x, y = flatten_dataset(df)"
      ],
      "metadata": {
        "id": "u-Epu6-atTTK"
      },
      "execution_count": null,
      "outputs": []
    },
    {
      "cell_type": "markdown",
      "source": [
        "# 1. Visualize"
      ],
      "metadata": {
        "id": "XtJniZicmxd9"
      }
    },
    {
      "cell_type": "code",
      "source": [
        "def visualize(df):\n",
        "    \"\"\"\n",
        "    Visualize the El Niño – Sea Surface Temperature dataset from statsmodels.\n",
        "\n",
        "    You decide the most appropriate way to visualize the dataset.\n",
        "\n",
        "    Parameters\n",
        "    ----------\n",
        "    df : pd.DataFrame\n",
        "        The Pandas dataframe of the El Niño – Sea Surface Temperature dataset\n",
        "        from the statsmodels package.\n",
        "\n",
        "    Returns\n",
        "    -------\n",
        "    None\n",
        "    \"\"\"\n",
        "    # YOUR CODE HERE\n",
        "    raise NotImplementedError()\n",
        "\n",
        "visualize(df)"
      ],
      "metadata": {
        "id": "cyjufEkkmwxL"
      },
      "execution_count": null,
      "outputs": []
    },
    {
      "cell_type": "markdown",
      "source": [
        "# 2. Gaussian Process Regression (GPR)"
      ],
      "metadata": {
        "id": "QbJrEIUCqf3b"
      }
    },
    {
      "cell_type": "code",
      "source": [
        "def get_interpolated_time():\n",
        "    \"\"\"\n",
        "    We are going to use GPR to interpolate the sea surface temperatures for\n",
        "    every day between January 1st 1950 and December 1st 2030. There are 29,555\n",
        "    days between those two dates (inclusive). Create and return an array of\n",
        "    times for each day in that timeframe.\n",
        "\n",
        "    Paramters\n",
        "    ---------\n",
        "    None\n",
        "\n",
        "    Returns\n",
        "    -------\n",
        "    interp_time : array-like\n",
        "        A shape (29555,) array, the times we want to interpolate. Encoded the\n",
        "        same way you did before or any way you like.\n",
        "    \"\"\"\n",
        "    # YOUR CODE HERE\n",
        "    raise NotImplementedError()\n",
        "\n",
        "t = get_interpolated_time()"
      ],
      "metadata": {
        "id": "Y2gx-0CawAqX"
      },
      "execution_count": null,
      "outputs": []
    },
    {
      "cell_type": "code",
      "source": [
        "def gaussian_process_regression(time, data, interp_time, initial_guess):\n",
        "    \"\"\"\n",
        "    Using the george package, its documentation and startup guide, implement a\n",
        "    simple gaussian process regressor on `time` and `data`. Then, use it to\n",
        "    predict on `interp_time`.\n",
        "\n",
        "    It will be helpful for you to visualize the result of this initial model,\n",
        "    but not necessary for the assignment.\n",
        "\n",
        "    Parameters\n",
        "    ----------\n",
        "    time : array-like\n",
        "        A shape (732,) array, times between 1950 and 2010, sampled every month.\n",
        "    data : array-like\n",
        "        A shape (732,) array, sea surface temperatures every month between 1950\n",
        "        and 2010.\n",
        "    interp_time : array-like\n",
        "        A shape (29555,) array, times between 1950 and 2030, sampled every day.\n",
        "    initial_guess : array-like or float\n",
        "        The intial guess for the gaussian process that you make. The number of\n",
        "        parameters will depend on the kernel you choose.\n",
        "\n",
        "    Returns\n",
        "    -------\n",
        "    None\n",
        "    \"\"\"\n",
        "    # YOUR CODE HERE\n",
        "    raise NotImplementedError()\n",
        "\n",
        "initial_guess =\n",
        "gaussian_process_regression(x, y, t, initial_guess)"
      ],
      "metadata": {
        "id": "I_B5-v4NqfFZ"
      },
      "execution_count": null,
      "outputs": []
    },
    {
      "cell_type": "markdown",
      "source": [
        "# 3. Optimize"
      ],
      "metadata": {
        "id": "EJ139qcB0zHA"
      }
    },
    {
      "cell_type": "code",
      "source": [
        "def optimize():\n",
        "    \"\"\"\n",
        "    Using any optimization method you choose, find the optimal set of\n",
        "    hyperparameters for your model.\n",
        "\n",
        "    Parameters\n",
        "    ----------\n",
        "\n",
        "    Returns\n",
        "    -------\n",
        "    params : array-like\n",
        "        The optimized parameters of your model.\n",
        "    \"\"\"\n",
        "\n",
        "    # YOUR CODE HERE\n",
        "    raise NotImplementedError()\n",
        "\n",
        "params = optimize()\n",
        "print(params)"
      ],
      "metadata": {
        "id": "Ss1Qcrry0RCJ"
      },
      "execution_count": null,
      "outputs": []
    },
    {
      "cell_type": "markdown",
      "source": [
        "# 4. Visualize your model"
      ],
      "metadata": {
        "id": "U-FOOjLr1e8D"
      }
    },
    {
      "cell_type": "code",
      "source": [
        "def visualize_model():\n",
        "    \"\"\"\n",
        "    Visualize your model. Use any method you like in visualizing your model but\n",
        "    you must make at least one plot with a figure caption.\n",
        "\n",
        "    In your figure caption, comment on the effectiveness of your model in\n",
        "    predicting temperatures beyond 2010.\n",
        "\n",
        "    Parameters\n",
        "    ----------\n",
        "\n",
        "\n",
        "    Returns\n",
        "    -------\n",
        "\n",
        "    \"\"\"\n",
        "    # YOUR CODE HERE\n",
        "    raise NotImplementedError()\n",
        "\n",
        "visualize_model()"
      ],
      "metadata": {
        "id": "tNuN4v_A1guC"
      },
      "execution_count": null,
      "outputs": []
    }
  ]
}